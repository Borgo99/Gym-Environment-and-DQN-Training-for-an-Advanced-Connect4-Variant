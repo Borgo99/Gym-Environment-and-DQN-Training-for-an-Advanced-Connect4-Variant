{
 "cells": [
  {
   "cell_type": "markdown",
   "metadata": {},
   "source": [
    "This Jupyter notebook shows how to create and train a DQN model for a Four-in-a-Row-Evolution environment.\n",
    "\n",
    "To use this notebook in Colab follow these instructions:\n",
    "1. Upload and open this notebook on Google Colab.\n",
    "2. Download the `train_4inarowEvolution` directory from the corresponding GitHub repository. Compress it into a .zip file named **train_4inarowEvolution.zip** (do NOT change the name).\n",
    "3. Upload the `train_4inarowEvolution.zip` file to Colab.\n",
    "4. Run the cells in this notebook.\n",
    "\n",
    "Due to Colab time limits, it is recommended to set a training timeout of max 5/6 hours per session. \n",
    "\n",
    "Once the training stops, a new `train_4inarowEvolution.zip` will be created with the current training status. \n",
    "\n",
    "By downloading the new zip file, it is possible to resume training by uploading a new Colab with this notebook and then upload the last `train_4inarowEvolution.zip` you just downloaded. The training state will be restored and resumed. In this way is it possible to train the model for a large number of episodes."
   ]
  },
  {
   "cell_type": "code",
   "execution_count": 1,
   "metadata": {
    "id": "VhtnZUfch5OI"
   },
   "outputs": [],
   "source": [
    "import os, shutil, time, random, zipfile, json\n",
    "import matplotlib.pyplot as plt\n",
    "# Tensorflow framework\n",
    "import tensorflow as tf\n",
    "from tensorflow import keras\n",
    "from tensorflow.keras import layers"
   ]
  },
  {
   "cell_type": "code",
   "execution_count": null,
   "metadata": {
    "id": "_3iSF-s4h_TJ"
   },
   "outputs": [],
   "source": [
    "def unzip_directory(zip_path, extract_to):\n",
    "  \"\"\"\n",
    "  Unzips a zip file to the specified directory.\n",
    "  \"\"\"\n",
    "  with zipfile.ZipFile(zip_path, 'r') as zip_ref:\n",
    "    zip_ref.extractall(extract_to)\n",
    "  print(f\"Extracted {zip_path} to {extract_to}\")\n",
    "\n",
    "def zip_directory(folder_path, zip_path):\n",
    "  \"\"\"\n",
    "  Zips a directory into a zip file.\n",
    "  \"\"\"\n",
    "  with zipfile.ZipFile(zip_path, 'w', zipfile.ZIP_DEFLATED) as zip_ref:\n",
    "    for root, dirs, files in os.walk(folder_path):\n",
    "      for file in files:\n",
    "        file_path = os.path.join(root, file)\n",
    "        arcname = os.path.relpath(file_path, folder_path)\n",
    "        zip_ref.write(file_path, arcname)\n",
    "  print(f\"Zipped {folder_path} into {zip_path}\")\n",
    "\n",
    "def save_dict_to_json_file(dictionary, filename):\n",
    "  \"\"\"\n",
    "  Saves a dictionary to a JSON file.\n",
    "  \"\"\"\n",
    "  with open(filename, 'w') as json_file:\n",
    "    json.dump(dictionary, json_file, indent=4)\n",
    "  print(f\"Dictionary saved to {filename}\")\n",
    "\n",
    "def read_json_file_to_dict(filename):\n",
    "  \"\"\"\n",
    "  Reads a JSON file and returns it as a dictionary.\n",
    "  \"\"\"\n",
    "  with open(filename, 'r') as json_file:\n",
    "    dictionary = json.load(json_file)\n",
    "  print(f\"JSON file {filename} loaded into a dictionary\")\n",
    "  return dictionary"
   ]
  },
  {
   "cell_type": "code",
   "execution_count": null,
   "metadata": {
    "colab": {
     "base_uri": "https://localhost:8080/"
    },
    "id": "Omb0wqZHk77g",
    "outputId": "e696de18-8dd1-4328-c58f-2e7b61a8ba10"
   },
   "outputs": [
    {
     "name": "stdout",
     "output_type": "stream",
     "text": [
      "Extracted train_4inarowEvolution.zip to ./train_4inarowEvolution\n",
      "JSON file train_4inarowEvolution/train_settings.json loaded into a dictionary\n"
     ]
    }
   ],
   "source": [
    "# Define paths and unzip training files\n",
    "base_path = \"train_4inarowEvolution\"\n",
    "zip_filename = \"train_4inarowEvolution.zip\"\n",
    "unzip_directory(zip_filename, f\"./{base_path}\")\n",
    "# fix if there is a duplicated directory because of the zip\n",
    "if os.path.exists(f\"{base_path}/{base_path}\"):\n",
    "  shutil.rmtree(base_path)\n",
    "  unzip_directory(zip_filename, f\"./\")\n",
    "\n",
    "# Load or create training settings\n",
    "train_settings_path = f\"{base_path}/train_settings.json\"\n",
    "if os.path.exists(train_settings_path):\n",
    "  train_settings = read_json_file_to_dict(train_settings_path)\n",
    "else:\n",
    "  train_settings = {\n",
    "    \"notes\": \"3x(32conv3x3)x128+128+128x128 ConfB3: smaller target update interval + increased episodes + conv layers\",\n",
    "    \"map_width\": 7,\n",
    "    \"map_height\": 6,\n",
    "    \"moves_at_time\": 3,\n",
    "    \"DQN\": \"DoubleDuelingDQN\", # \"DQN\", \"DoubleDQN\", \"DuelingDQN\", \"DoubleDuelingDQN\"\n",
    "    \"gamma\": 0.95,\n",
    "    \"episodes\": 50_000,\n",
    "    \"buffer_size\": 200_000,\n",
    "    \"min_episodes_before_eps_update\": 2_000,\n",
    "    \"eps_start\": 1.0,\n",
    "    \"eps_end\": 0.05,\n",
    "    \"episodes_after_eps_end\": 1_000,\n",
    "    \"max_random_skips\": 5, # improve exploration: randomly skip action with highest Q value when playing\n",
    "    \"target_update_interval\": 5_000, # increase if the loss is thrashing\n",
    "    \"strategy\": \"mixed\", # \"random\", \"target\", \"mixed\"\n",
    "    \"batch_size\": 64,\n",
    "    \"min_buffer_size_before_training\": 3_000,\n",
    "    \"network_update_per_episode\": 5,\n",
    "    \"evaluate_vs_random_interval\": 2_000,\n",
    "    \"learning_rate\": 0.00001, # or 0.001\n",
    "    \"loss\": \"huber\", # \"mse\" or \"huber\"\n",
    "\n",
    "    # parameters to restore last training conditions\n",
    "    \"episodes_done\": 0,\n",
    "    \"current_eps\": None,\n",
    "    \"training_executions_count\": 0,\n",
    "    \"best_win_rate_vs_random\": 0.0\n",
    "  }"
   ]
  },
  {
   "cell_type": "code",
   "execution_count": null,
   "metadata": {
    "colab": {
     "base_uri": "https://localhost:8080/",
     "height": 668
    },
    "id": "2_t2nD42h_QC",
    "outputId": "c3b8eb5e-1676-40d0-8cae-f1d685c1f676"
   },
   "outputs": [
    {
     "name": "stdout",
     "output_type": "stream",
     "text": [
      "Map shape is (7, 6), moves_at_time=3, output_classes=343\n"
     ]
    },
    {
     "data": {
      "text/html": [
       "<pre style=\"white-space:pre;overflow-x:auto;line-height:normal;font-family:Menlo,'DejaVu Sans Mono',consolas,'Courier New',monospace\"><span style=\"font-weight: bold\">Model: \"DuelingDQN\"</span>\n",
       "</pre>\n"
      ],
      "text/plain": [
       "\u001b[1mModel: \"DuelingDQN\"\u001b[0m\n"
      ]
     },
     "metadata": {},
     "output_type": "display_data"
    },
    {
     "data": {
      "text/html": [
       "<pre style=\"white-space:pre;overflow-x:auto;line-height:normal;font-family:Menlo,'DejaVu Sans Mono',consolas,'Courier New',monospace\">┏━━━━━━━━━━━━━━━━━━━━━━━━━━━┳━━━━━━━━━━━━━━━━━━━━━━━━┳━━━━━━━━━━━━━━━━┳━━━━━━━━━━━━━━━━━━━━━━━━┓\n",
       "┃<span style=\"font-weight: bold\"> Layer (type)              </span>┃<span style=\"font-weight: bold\"> Output Shape           </span>┃<span style=\"font-weight: bold\">        Param # </span>┃<span style=\"font-weight: bold\"> Connected to           </span>┃\n",
       "┡━━━━━━━━━━━━━━━━━━━━━━━━━━━╇━━━━━━━━━━━━━━━━━━━━━━━━╇━━━━━━━━━━━━━━━━╇━━━━━━━━━━━━━━━━━━━━━━━━┩\n",
       "│ state_input (<span style=\"color: #0087ff; text-decoration-color: #0087ff\">InputLayer</span>)  │ (<span style=\"color: #00d7ff; text-decoration-color: #00d7ff\">None</span>, <span style=\"color: #00af00; text-decoration-color: #00af00\">6</span>, <span style=\"color: #00af00; text-decoration-color: #00af00\">7</span>, <span style=\"color: #00af00; text-decoration-color: #00af00\">1</span>)        │              <span style=\"color: #00af00; text-decoration-color: #00af00\">0</span> │ -                      │\n",
       "├───────────────────────────┼────────────────────────┼────────────────┼────────────────────────┤\n",
       "│ shared_conv_0 (<span style=\"color: #0087ff; text-decoration-color: #0087ff\">Conv2D</span>)    │ (<span style=\"color: #00d7ff; text-decoration-color: #00d7ff\">None</span>, <span style=\"color: #00af00; text-decoration-color: #00af00\">6</span>, <span style=\"color: #00af00; text-decoration-color: #00af00\">7</span>, <span style=\"color: #00af00; text-decoration-color: #00af00\">32</span>)       │            <span style=\"color: #00af00; text-decoration-color: #00af00\">320</span> │ state_input[<span style=\"color: #00af00; text-decoration-color: #00af00\">0</span>][<span style=\"color: #00af00; text-decoration-color: #00af00\">0</span>]      │\n",
       "├───────────────────────────┼────────────────────────┼────────────────┼────────────────────────┤\n",
       "│ shared_conv_1 (<span style=\"color: #0087ff; text-decoration-color: #0087ff\">Conv2D</span>)    │ (<span style=\"color: #00d7ff; text-decoration-color: #00d7ff\">None</span>, <span style=\"color: #00af00; text-decoration-color: #00af00\">6</span>, <span style=\"color: #00af00; text-decoration-color: #00af00\">7</span>, <span style=\"color: #00af00; text-decoration-color: #00af00\">32</span>)       │          <span style=\"color: #00af00; text-decoration-color: #00af00\">9,248</span> │ shared_conv_0[<span style=\"color: #00af00; text-decoration-color: #00af00\">0</span>][<span style=\"color: #00af00; text-decoration-color: #00af00\">0</span>]    │\n",
       "├───────────────────────────┼────────────────────────┼────────────────┼────────────────────────┤\n",
       "│ shared_conv_2 (<span style=\"color: #0087ff; text-decoration-color: #0087ff\">Conv2D</span>)    │ (<span style=\"color: #00d7ff; text-decoration-color: #00d7ff\">None</span>, <span style=\"color: #00af00; text-decoration-color: #00af00\">6</span>, <span style=\"color: #00af00; text-decoration-color: #00af00\">7</span>, <span style=\"color: #00af00; text-decoration-color: #00af00\">32</span>)       │          <span style=\"color: #00af00; text-decoration-color: #00af00\">9,248</span> │ shared_conv_1[<span style=\"color: #00af00; text-decoration-color: #00af00\">0</span>][<span style=\"color: #00af00; text-decoration-color: #00af00\">0</span>]    │\n",
       "├───────────────────────────┼────────────────────────┼────────────────┼────────────────────────┤\n",
       "│ flatten (<span style=\"color: #0087ff; text-decoration-color: #0087ff\">Flatten</span>)         │ (<span style=\"color: #00d7ff; text-decoration-color: #00d7ff\">None</span>, <span style=\"color: #00af00; text-decoration-color: #00af00\">1344</span>)           │              <span style=\"color: #00af00; text-decoration-color: #00af00\">0</span> │ shared_conv_2[<span style=\"color: #00af00; text-decoration-color: #00af00\">0</span>][<span style=\"color: #00af00; text-decoration-color: #00af00\">0</span>]    │\n",
       "├───────────────────────────┼────────────────────────┼────────────────┼────────────────────────┤\n",
       "│ shared_dense_0 (<span style=\"color: #0087ff; text-decoration-color: #0087ff\">Dense</span>)    │ (<span style=\"color: #00d7ff; text-decoration-color: #00d7ff\">None</span>, <span style=\"color: #00af00; text-decoration-color: #00af00\">128</span>)            │        <span style=\"color: #00af00; text-decoration-color: #00af00\">172,160</span> │ flatten[<span style=\"color: #00af00; text-decoration-color: #00af00\">0</span>][<span style=\"color: #00af00; text-decoration-color: #00af00\">0</span>]          │\n",
       "├───────────────────────────┼────────────────────────┼────────────────┼────────────────────────┤\n",
       "│ advantage_dense_0 (<span style=\"color: #0087ff; text-decoration-color: #0087ff\">Dense</span>) │ (<span style=\"color: #00d7ff; text-decoration-color: #00d7ff\">None</span>, <span style=\"color: #00af00; text-decoration-color: #00af00\">128</span>)            │         <span style=\"color: #00af00; text-decoration-color: #00af00\">16,512</span> │ shared_dense_0[<span style=\"color: #00af00; text-decoration-color: #00af00\">0</span>][<span style=\"color: #00af00; text-decoration-color: #00af00\">0</span>]   │\n",
       "├───────────────────────────┼────────────────────────┼────────────────┼────────────────────────┤\n",
       "│ advantage_dense_1 (<span style=\"color: #0087ff; text-decoration-color: #0087ff\">Dense</span>) │ (<span style=\"color: #00d7ff; text-decoration-color: #00d7ff\">None</span>, <span style=\"color: #00af00; text-decoration-color: #00af00\">128</span>)            │         <span style=\"color: #00af00; text-decoration-color: #00af00\">16,512</span> │ advantage_dense_0[<span style=\"color: #00af00; text-decoration-color: #00af00\">0</span>][<span style=\"color: #00af00; text-decoration-color: #00af00\">…</span> │\n",
       "├───────────────────────────┼────────────────────────┼────────────────┼────────────────────────┤\n",
       "│ advantage (<span style=\"color: #0087ff; text-decoration-color: #0087ff\">Dense</span>)         │ (<span style=\"color: #00d7ff; text-decoration-color: #00d7ff\">None</span>, <span style=\"color: #00af00; text-decoration-color: #00af00\">343</span>)            │         <span style=\"color: #00af00; text-decoration-color: #00af00\">44,247</span> │ advantage_dense_1[<span style=\"color: #00af00; text-decoration-color: #00af00\">0</span>][<span style=\"color: #00af00; text-decoration-color: #00af00\">…</span> │\n",
       "├───────────────────────────┼────────────────────────┼────────────────┼────────────────────────┤\n",
       "│ value_dense_0 (<span style=\"color: #0087ff; text-decoration-color: #0087ff\">Dense</span>)     │ (<span style=\"color: #00d7ff; text-decoration-color: #00d7ff\">None</span>, <span style=\"color: #00af00; text-decoration-color: #00af00\">128</span>)            │         <span style=\"color: #00af00; text-decoration-color: #00af00\">16,512</span> │ shared_dense_0[<span style=\"color: #00af00; text-decoration-color: #00af00\">0</span>][<span style=\"color: #00af00; text-decoration-color: #00af00\">0</span>]   │\n",
       "├───────────────────────────┼────────────────────────┼────────────────┼────────────────────────┤\n",
       "│ advantage_mean            │ (<span style=\"color: #00d7ff; text-decoration-color: #00d7ff\">None</span>, <span style=\"color: #00af00; text-decoration-color: #00af00\">1</span>)              │              <span style=\"color: #00af00; text-decoration-color: #00af00\">0</span> │ advantage[<span style=\"color: #00af00; text-decoration-color: #00af00\">0</span>][<span style=\"color: #00af00; text-decoration-color: #00af00\">0</span>]        │\n",
       "│ (<span style=\"color: #0087ff; text-decoration-color: #0087ff\">AdvantageMeanLayer</span>)      │                        │                │                        │\n",
       "├───────────────────────────┼────────────────────────┼────────────────┼────────────────────────┤\n",
       "│ value (<span style=\"color: #0087ff; text-decoration-color: #0087ff\">Dense</span>)             │ (<span style=\"color: #00d7ff; text-decoration-color: #00d7ff\">None</span>, <span style=\"color: #00af00; text-decoration-color: #00af00\">1</span>)              │            <span style=\"color: #00af00; text-decoration-color: #00af00\">129</span> │ value_dense_0[<span style=\"color: #00af00; text-decoration-color: #00af00\">0</span>][<span style=\"color: #00af00; text-decoration-color: #00af00\">0</span>]    │\n",
       "├───────────────────────────┼────────────────────────┼────────────────┼────────────────────────┤\n",
       "│ advantage_centered        │ (<span style=\"color: #00d7ff; text-decoration-color: #00d7ff\">None</span>, <span style=\"color: #00af00; text-decoration-color: #00af00\">343</span>)            │              <span style=\"color: #00af00; text-decoration-color: #00af00\">0</span> │ advantage[<span style=\"color: #00af00; text-decoration-color: #00af00\">0</span>][<span style=\"color: #00af00; text-decoration-color: #00af00\">0</span>],       │\n",
       "│ (<span style=\"color: #0087ff; text-decoration-color: #0087ff\">Subtract</span>)                │                        │                │ advantage_mean[<span style=\"color: #00af00; text-decoration-color: #00af00\">0</span>][<span style=\"color: #00af00; text-decoration-color: #00af00\">0</span>]   │\n",
       "├───────────────────────────┼────────────────────────┼────────────────┼────────────────────────┤\n",
       "│ q_values (<span style=\"color: #0087ff; text-decoration-color: #0087ff\">Add</span>)            │ (<span style=\"color: #00d7ff; text-decoration-color: #00d7ff\">None</span>, <span style=\"color: #00af00; text-decoration-color: #00af00\">343</span>)            │              <span style=\"color: #00af00; text-decoration-color: #00af00\">0</span> │ value[<span style=\"color: #00af00; text-decoration-color: #00af00\">0</span>][<span style=\"color: #00af00; text-decoration-color: #00af00\">0</span>],           │\n",
       "│                           │                        │                │ advantage_centered[<span style=\"color: #00af00; text-decoration-color: #00af00\">0</span>]… │\n",
       "└───────────────────────────┴────────────────────────┴────────────────┴────────────────────────┘\n",
       "</pre>\n"
      ],
      "text/plain": [
       "┏━━━━━━━━━━━━━━━━━━━━━━━━━━━┳━━━━━━━━━━━━━━━━━━━━━━━━┳━━━━━━━━━━━━━━━━┳━━━━━━━━━━━━━━━━━━━━━━━━┓\n",
       "┃\u001b[1m \u001b[0m\u001b[1mLayer (type)             \u001b[0m\u001b[1m \u001b[0m┃\u001b[1m \u001b[0m\u001b[1mOutput Shape          \u001b[0m\u001b[1m \u001b[0m┃\u001b[1m \u001b[0m\u001b[1m       Param #\u001b[0m\u001b[1m \u001b[0m┃\u001b[1m \u001b[0m\u001b[1mConnected to          \u001b[0m\u001b[1m \u001b[0m┃\n",
       "┡━━━━━━━━━━━━━━━━━━━━━━━━━━━╇━━━━━━━━━━━━━━━━━━━━━━━━╇━━━━━━━━━━━━━━━━╇━━━━━━━━━━━━━━━━━━━━━━━━┩\n",
       "│ state_input (\u001b[38;5;33mInputLayer\u001b[0m)  │ (\u001b[38;5;45mNone\u001b[0m, \u001b[38;5;34m6\u001b[0m, \u001b[38;5;34m7\u001b[0m, \u001b[38;5;34m1\u001b[0m)        │              \u001b[38;5;34m0\u001b[0m │ -                      │\n",
       "├───────────────────────────┼────────────────────────┼────────────────┼────────────────────────┤\n",
       "│ shared_conv_0 (\u001b[38;5;33mConv2D\u001b[0m)    │ (\u001b[38;5;45mNone\u001b[0m, \u001b[38;5;34m6\u001b[0m, \u001b[38;5;34m7\u001b[0m, \u001b[38;5;34m32\u001b[0m)       │            \u001b[38;5;34m320\u001b[0m │ state_input[\u001b[38;5;34m0\u001b[0m][\u001b[38;5;34m0\u001b[0m]      │\n",
       "├───────────────────────────┼────────────────────────┼────────────────┼────────────────────────┤\n",
       "│ shared_conv_1 (\u001b[38;5;33mConv2D\u001b[0m)    │ (\u001b[38;5;45mNone\u001b[0m, \u001b[38;5;34m6\u001b[0m, \u001b[38;5;34m7\u001b[0m, \u001b[38;5;34m32\u001b[0m)       │          \u001b[38;5;34m9,248\u001b[0m │ shared_conv_0[\u001b[38;5;34m0\u001b[0m][\u001b[38;5;34m0\u001b[0m]    │\n",
       "├───────────────────────────┼────────────────────────┼────────────────┼────────────────────────┤\n",
       "│ shared_conv_2 (\u001b[38;5;33mConv2D\u001b[0m)    │ (\u001b[38;5;45mNone\u001b[0m, \u001b[38;5;34m6\u001b[0m, \u001b[38;5;34m7\u001b[0m, \u001b[38;5;34m32\u001b[0m)       │          \u001b[38;5;34m9,248\u001b[0m │ shared_conv_1[\u001b[38;5;34m0\u001b[0m][\u001b[38;5;34m0\u001b[0m]    │\n",
       "├───────────────────────────┼────────────────────────┼────────────────┼────────────────────────┤\n",
       "│ flatten (\u001b[38;5;33mFlatten\u001b[0m)         │ (\u001b[38;5;45mNone\u001b[0m, \u001b[38;5;34m1344\u001b[0m)           │              \u001b[38;5;34m0\u001b[0m │ shared_conv_2[\u001b[38;5;34m0\u001b[0m][\u001b[38;5;34m0\u001b[0m]    │\n",
       "├───────────────────────────┼────────────────────────┼────────────────┼────────────────────────┤\n",
       "│ shared_dense_0 (\u001b[38;5;33mDense\u001b[0m)    │ (\u001b[38;5;45mNone\u001b[0m, \u001b[38;5;34m128\u001b[0m)            │        \u001b[38;5;34m172,160\u001b[0m │ flatten[\u001b[38;5;34m0\u001b[0m][\u001b[38;5;34m0\u001b[0m]          │\n",
       "├───────────────────────────┼────────────────────────┼────────────────┼────────────────────────┤\n",
       "│ advantage_dense_0 (\u001b[38;5;33mDense\u001b[0m) │ (\u001b[38;5;45mNone\u001b[0m, \u001b[38;5;34m128\u001b[0m)            │         \u001b[38;5;34m16,512\u001b[0m │ shared_dense_0[\u001b[38;5;34m0\u001b[0m][\u001b[38;5;34m0\u001b[0m]   │\n",
       "├───────────────────────────┼────────────────────────┼────────────────┼────────────────────────┤\n",
       "│ advantage_dense_1 (\u001b[38;5;33mDense\u001b[0m) │ (\u001b[38;5;45mNone\u001b[0m, \u001b[38;5;34m128\u001b[0m)            │         \u001b[38;5;34m16,512\u001b[0m │ advantage_dense_0[\u001b[38;5;34m0\u001b[0m][\u001b[38;5;34m…\u001b[0m │\n",
       "├───────────────────────────┼────────────────────────┼────────────────┼────────────────────────┤\n",
       "│ advantage (\u001b[38;5;33mDense\u001b[0m)         │ (\u001b[38;5;45mNone\u001b[0m, \u001b[38;5;34m343\u001b[0m)            │         \u001b[38;5;34m44,247\u001b[0m │ advantage_dense_1[\u001b[38;5;34m0\u001b[0m][\u001b[38;5;34m…\u001b[0m │\n",
       "├───────────────────────────┼────────────────────────┼────────────────┼────────────────────────┤\n",
       "│ value_dense_0 (\u001b[38;5;33mDense\u001b[0m)     │ (\u001b[38;5;45mNone\u001b[0m, \u001b[38;5;34m128\u001b[0m)            │         \u001b[38;5;34m16,512\u001b[0m │ shared_dense_0[\u001b[38;5;34m0\u001b[0m][\u001b[38;5;34m0\u001b[0m]   │\n",
       "├───────────────────────────┼────────────────────────┼────────────────┼────────────────────────┤\n",
       "│ advantage_mean            │ (\u001b[38;5;45mNone\u001b[0m, \u001b[38;5;34m1\u001b[0m)              │              \u001b[38;5;34m0\u001b[0m │ advantage[\u001b[38;5;34m0\u001b[0m][\u001b[38;5;34m0\u001b[0m]        │\n",
       "│ (\u001b[38;5;33mAdvantageMeanLayer\u001b[0m)      │                        │                │                        │\n",
       "├───────────────────────────┼────────────────────────┼────────────────┼────────────────────────┤\n",
       "│ value (\u001b[38;5;33mDense\u001b[0m)             │ (\u001b[38;5;45mNone\u001b[0m, \u001b[38;5;34m1\u001b[0m)              │            \u001b[38;5;34m129\u001b[0m │ value_dense_0[\u001b[38;5;34m0\u001b[0m][\u001b[38;5;34m0\u001b[0m]    │\n",
       "├───────────────────────────┼────────────────────────┼────────────────┼────────────────────────┤\n",
       "│ advantage_centered        │ (\u001b[38;5;45mNone\u001b[0m, \u001b[38;5;34m343\u001b[0m)            │              \u001b[38;5;34m0\u001b[0m │ advantage[\u001b[38;5;34m0\u001b[0m][\u001b[38;5;34m0\u001b[0m],       │\n",
       "│ (\u001b[38;5;33mSubtract\u001b[0m)                │                        │                │ advantage_mean[\u001b[38;5;34m0\u001b[0m][\u001b[38;5;34m0\u001b[0m]   │\n",
       "├───────────────────────────┼────────────────────────┼────────────────┼────────────────────────┤\n",
       "│ q_values (\u001b[38;5;33mAdd\u001b[0m)            │ (\u001b[38;5;45mNone\u001b[0m, \u001b[38;5;34m343\u001b[0m)            │              \u001b[38;5;34m0\u001b[0m │ value[\u001b[38;5;34m0\u001b[0m][\u001b[38;5;34m0\u001b[0m],           │\n",
       "│                           │                        │                │ advantage_centered[\u001b[38;5;34m0\u001b[0m]… │\n",
       "└───────────────────────────┴────────────────────────┴────────────────┴────────────────────────┘\n"
      ]
     },
     "metadata": {},
     "output_type": "display_data"
    },
    {
     "data": {
      "text/html": [
       "<pre style=\"white-space:pre;overflow-x:auto;line-height:normal;font-family:Menlo,'DejaVu Sans Mono',consolas,'Courier New',monospace\"><span style=\"font-weight: bold\"> Total params: </span><span style=\"color: #00af00; text-decoration-color: #00af00\">854,666</span> (3.26 MB)\n",
       "</pre>\n"
      ],
      "text/plain": [
       "\u001b[1m Total params: \u001b[0m\u001b[38;5;34m854,666\u001b[0m (3.26 MB)\n"
      ]
     },
     "metadata": {},
     "output_type": "display_data"
    },
    {
     "data": {
      "text/html": [
       "<pre style=\"white-space:pre;overflow-x:auto;line-height:normal;font-family:Menlo,'DejaVu Sans Mono',consolas,'Courier New',monospace\"><span style=\"font-weight: bold\"> Trainable params: </span><span style=\"color: #00af00; text-decoration-color: #00af00\">284,888</span> (1.09 MB)\n",
       "</pre>\n"
      ],
      "text/plain": [
       "\u001b[1m Trainable params: \u001b[0m\u001b[38;5;34m284,888\u001b[0m (1.09 MB)\n"
      ]
     },
     "metadata": {},
     "output_type": "display_data"
    },
    {
     "data": {
      "text/html": [
       "<pre style=\"white-space:pre;overflow-x:auto;line-height:normal;font-family:Menlo,'DejaVu Sans Mono',consolas,'Courier New',monospace\"><span style=\"font-weight: bold\"> Non-trainable params: </span><span style=\"color: #00af00; text-decoration-color: #00af00\">0</span> (0.00 B)\n",
       "</pre>\n"
      ],
      "text/plain": [
       "\u001b[1m Non-trainable params: \u001b[0m\u001b[38;5;34m0\u001b[0m (0.00 B)\n"
      ]
     },
     "metadata": {},
     "output_type": "display_data"
    },
    {
     "data": {
      "text/html": [
       "<pre style=\"white-space:pre;overflow-x:auto;line-height:normal;font-family:Menlo,'DejaVu Sans Mono',consolas,'Courier New',monospace\"><span style=\"font-weight: bold\"> Optimizer params: </span><span style=\"color: #00af00; text-decoration-color: #00af00\">569,778</span> (2.17 MB)\n",
       "</pre>\n"
      ],
      "text/plain": [
       "\u001b[1m Optimizer params: \u001b[0m\u001b[38;5;34m569,778\u001b[0m (2.17 MB)\n"
      ]
     },
     "metadata": {},
     "output_type": "display_data"
    }
   ],
   "source": [
    "from train_4inarowEvolution.DQN import DQN\n",
    "from train_4inarowEvolution.DoubleDQN import DoubleDQN\n",
    "from train_4inarowEvolution.DuelingDQN import DuelingDQN\n",
    "from train_4inarowEvolution.DoubleDuelingDQN import DoubleDuelingDQN\n",
    "from train_4inarowEvolution.FourInARowEnv import FourInARowEnv\n",
    "\n",
    "# Environment setup\n",
    "map_width = train_settings[\"map_width\"]\n",
    "map_height = train_settings[\"map_height\"]\n",
    "moves_at_time = train_settings[\"moves_at_time\"]\n",
    "output_classes = map_width ** moves_at_time\n",
    "print(f'Map shape is ({map_width}, {map_height}), {moves_at_time=}, {output_classes=}');\n",
    "\n",
    "state_space = (map_height, map_width)\n",
    "action_space = (output_classes)\n",
    "\n",
    "# Initialize the environment\n",
    "env = FourInARowEnv(\n",
    "    map_width=map_width, map_height=map_height,\n",
    "    moves_at_time=moves_at_time)\n",
    "# Initialize the chosen DQN model\n",
    "dqn_type = train_settings[\"DQN\"]\n",
    "if dqn_type == \"DQN\":\n",
    "  dqn = DQN(state_space,\n",
    "            action_space,\n",
    "            env,\n",
    "            gamma=train_settings[\"gamma\"])\n",
    "elif dqn_type == \"DoubleDQN\":\n",
    "  dqn = DoubleDQN(state_space,\n",
    "            action_space,\n",
    "            env,\n",
    "            gamma=train_settings[\"gamma\"])\n",
    "elif dqn_type == \"DuelingDQN\":\n",
    "  dqn = DuelingDQN(state_space,\n",
    "            action_space,\n",
    "            env,\n",
    "            gamma=train_settings[\"gamma\"])\n",
    "elif dqn_type == \"DoubleDuelingDQN\":\n",
    "  dqn = DoubleDuelingDQN(state_space,\n",
    "            action_space,\n",
    "            env,\n",
    "            gamma=train_settings[\"gamma\"])\n",
    "\n",
    "# Set loss function\n",
    "loss = keras.losses.MeanSquaredError() if train_settings[\"loss\"] == \"mse\" else keras.losses.Huber()\n",
    "\n",
    "# Model paths\n",
    "best_model_path = f\"{base_path}/model_checkpoints/best.keras\"\n",
    "last_model_path = f\"{base_path}/model_checkpoints/trained_model.keras\"\n",
    "model_to_load_path = last_model_path\n",
    "\n",
    "# Create or load the model\n",
    "network_type = \"CNN\" # \"NN\" or \"CNN\"\n",
    "with tf.device('/GPU:0'):\n",
    "  if os.path.exists(model_to_load_path):\n",
    "    dqn.load_model(model_to_load_path)\n",
    "  elif \"dueling\" in dqn_type.lower():\n",
    "    dqn.create_model(\n",
    "      shared_cnn_layers=[(64, (3,3)), (64, (3,3))],\n",
    "      shared_dense_layers=[256],\n",
    "      value_stream_layers=[256],\n",
    "      advantage_stream_layers=[256],\n",
    "      padding=\"same\",\n",
    "      optimizer=tf.keras.optimizers.Adam(learning_rate=train_settings[\"learning_rate\"]),\n",
    "      loss=loss,\n",
    "      metrics=[\"accuracy\"])\n",
    "  elif network_type == \"CNN\":\n",
    "    padding = \"same\"\n",
    "    dqn.create_model(\n",
    "      keras.Sequential([\n",
    "        layers.Input(shape=(*state_space, 1)),\n",
    "        layers.Conv2D(\n",
    "            filters=32,\n",
    "            kernel_size=3,\n",
    "            strides=1,\n",
    "            padding=padding,\n",
    "            activation=\"relu\"\n",
    "        ),\n",
    "        layers.Flatten(),\n",
    "        layers.Dense(128, activation='relu'),\n",
    "        layers.Dense(output_classes)\n",
    "      ]),\n",
    "      optimizer=tf.keras.optimizers.Adam(learning_rate=train_settings[\"learning_rate\"]),\n",
    "      loss=loss,\n",
    "      metrics=[\"accuracy\"]\n",
    "    )\n",
    "  else:\n",
    "    dqn.create_model(\n",
    "      keras.Sequential([\n",
    "        layers.Input(shape=(*state_space, 1)),\n",
    "        layers.Flatten(),\n",
    "        layers.Dense(128, activation='relu'),\n",
    "        layers.Dense(128, activation='relu'),\n",
    "        layers.Dense(output_classes)\n",
    "      ]),\n",
    "      optimizer=tf.keras.optimizers.Adam(learning_rate=train_settings[\"learning_rate\"]),\n",
    "      loss=loss,\n",
    "      metrics=[\"accuracy\"]\n",
    "    )\n",
    "\n",
    "dqn.model.summary()"
   ]
  },
  {
   "cell_type": "code",
   "execution_count": null,
   "metadata": {
    "colab": {
     "base_uri": "https://localhost:8080/"
    },
    "id": "crGlnyeKBHGT",
    "outputId": "ee6a40c4-b081-4f39-95b0-2b6f5d9c6159"
   },
   "outputs": [],
   "source": [
    "# Evaluate initial performance\n",
    "initial_win_rate, initial_tie_rate, action_count = dqn.compute_win_rate_vs_random_opponent(episodes=1000)\n",
    "print(f\"{initial_win_rate=}, {initial_tie_rate=}\")"
   ]
  },
  {
   "cell_type": "code",
   "execution_count": null,
   "metadata": {
    "colab": {
     "base_uri": "https://localhost:8080/"
    },
    "id": "Erfa0uikBKff",
    "outputId": "a026049d-013f-4ab6-93d3-5ac4cbbada14"
   },
   "outputs": [
    {
     "name": "stdout",
     "output_type": "stream",
     "text": [
      "warmup_episodes=22857\n"
     ]
    },
    {
     "name": "stderr",
     "output_type": "stream",
     "text": [
      "100%|██████████| 22857/22857 [38:30<00:00,  9.89it/s]\n"
     ]
    },
    {
     "name": "stdout",
     "output_type": "stream",
     "text": [
      "Initial Replay Buffer size: 159999\n",
      "\n",
      " * Start training * \n",
      "\n"
     ]
    },
    {
     "name": "stderr",
     "output_type": "stream",
     "text": [
      "  2%|▏         | 2000/80895 [16:39<355:38:36, 16.23s/it]"
     ]
    },
    {
     "name": "stdout",
     "output_type": "stream",
     "text": [
      "\r * Train step 2000 ✅ *\n",
      "Epsilon value: 0.4246\n",
      "Loss: 0.0025097269099205732\n",
      "Accuracy: 0.859375\n",
      "Win rate vs random opponent: 79.4% (tie_rate=0.078)\n",
      "Replay Buffer size: 173999/200000\n"
     ]
    },
    {
     "name": "stderr",
     "output_type": "stream",
     "text": [
      "  5%|▍         | 4000/80895 [32:34<323:31:48, 15.15s/it]"
     ]
    },
    {
     "name": "stdout",
     "output_type": "stream",
     "text": [
      "\r * Train step 4000 ✅ *\n",
      "Epsilon value: 0.4149\n",
      "Loss: 0.003209829330444336\n",
      "Accuracy: 0.8359375\n",
      "Win rate vs random opponent: 79.4% (tie_rate=0.11)\n",
      "Replay Buffer size: 187999/200000\n"
     ]
    },
    {
     "name": "stderr",
     "output_type": "stream",
     "text": [
      "  7%|▋         | 6000/80895 [48:09<318:10:14, 15.29s/it]"
     ]
    },
    {
     "name": "stdout",
     "output_type": "stream",
     "text": [
      "\r * Train step 6000 ✅ *\n",
      "Epsilon value: 0.4051\n",
      "Loss: 0.004564732313156128\n",
      "Accuracy: 0.8125\n",
      "Win rate vs random opponent: 76.0% (tie_rate=0.1)\n",
      "Replay Buffer size: 200000/200000\n"
     ]
    },
    {
     "name": "stderr",
     "output_type": "stream",
     "text": [
      " 10%|▉         | 8000/80895 [1:03:57<308:55:34, 15.26s/it]"
     ]
    },
    {
     "name": "stdout",
     "output_type": "stream",
     "text": [
      "\r * Train step 8000 ✅ *\n",
      "Epsilon value: 0.3954\n",
      "Loss: 0.004584756214171648\n",
      "Accuracy: 0.7578125\n",
      "Win rate vs random opponent: 78.8% (tie_rate=0.082)\n",
      "Replay Buffer size: 200000/200000\n"
     ]
    },
    {
     "name": "stderr",
     "output_type": "stream",
     "text": [
      " 12%|█▏        | 10000/80895 [1:19:37<298:26:15, 15.15s/it]"
     ]
    },
    {
     "name": "stdout",
     "output_type": "stream",
     "text": [
      "\r * Train step 10000 ✅ *\n",
      "Epsilon value: 0.3856\n",
      "Loss: 0.0030948014464229345\n",
      "Accuracy: 0.75\n",
      "Win rate vs random opponent: 72.8% (tie_rate=0.114)\n",
      "Replay Buffer size: 200000/200000\n"
     ]
    },
    {
     "name": "stderr",
     "output_type": "stream",
     "text": [
      " 15%|█▍        | 12000/80895 [1:35:12<287:35:28, 15.03s/it]"
     ]
    },
    {
     "name": "stdout",
     "output_type": "stream",
     "text": [
      "\r * Train step 12000 ✅ *\n",
      "Epsilon value: 0.3759\n",
      "Loss: 0.004357491619884968\n",
      "Accuracy: 0.7890625\n",
      "Win rate vs random opponent: 71.39999999999999% (tie_rate=0.116)\n",
      "Replay Buffer size: 200000/200000\n"
     ]
    },
    {
     "name": "stderr",
     "output_type": "stream",
     "text": [
      " 17%|█▋        | 14000/80895 [1:50:48<289:07:49, 15.56s/it]"
     ]
    },
    {
     "name": "stdout",
     "output_type": "stream",
     "text": [
      "\r * Train step 14000 ✅ *\n",
      "Epsilon value: 0.3662\n",
      "Loss: 0.0024267600383609533\n",
      "Accuracy: 0.8046875\n",
      "Win rate vs random opponent: 72.8% (tie_rate=0.108)\n",
      "Replay Buffer size: 200000/200000\n"
     ]
    },
    {
     "name": "stderr",
     "output_type": "stream",
     "text": [
      " 20%|█▉        | 16000/80895 [2:07:51<281:07:35, 15.60s/it]"
     ]
    },
    {
     "name": "stdout",
     "output_type": "stream",
     "text": [
      "\r * Train step 16000 ✅ *\n",
      "Epsilon value: 0.3564\n",
      "Loss: 0.0032514859922230244\n",
      "Accuracy: 0.7421875\n",
      "Win rate vs random opponent: 65.4% (tie_rate=0.142)\n",
      "Replay Buffer size: 200000/200000\n"
     ]
    },
    {
     "name": "stderr",
     "output_type": "stream",
     "text": [
      " 22%|██▏       | 18000/80895 [2:24:01<273:56:18, 15.68s/it]"
     ]
    },
    {
     "name": "stdout",
     "output_type": "stream",
     "text": [
      "\r * Train step 18000 ✅ *\n",
      "Epsilon value: 0.3467\n",
      "Loss: 0.003210956696420908\n",
      "Accuracy: 0.796875\n",
      "Win rate vs random opponent: 69.8% (tie_rate=0.124)\n",
      "Replay Buffer size: 200000/200000\n"
     ]
    },
    {
     "name": "stderr",
     "output_type": "stream",
     "text": [
      " 25%|██▍       | 20000/80895 [2:39:54<266:54:19, 15.78s/it]"
     ]
    },
    {
     "name": "stdout",
     "output_type": "stream",
     "text": [
      "\r * Train step 20000 ✅ *\n",
      "Epsilon value: 0.3369\n",
      "Loss: 0.0023622422013431787\n",
      "Accuracy: 0.8203125\n",
      "Win rate vs random opponent: 74.0% (tie_rate=0.094)\n",
      "Replay Buffer size: 200000/200000\n"
     ]
    },
    {
     "name": "stderr",
     "output_type": "stream",
     "text": [
      " 27%|██▋       | 22000/80895 [2:57:24<272:37:41, 16.66s/it]"
     ]
    },
    {
     "name": "stdout",
     "output_type": "stream",
     "text": [
      "\r * Train step 22000 ✅ *\n",
      "Epsilon value: 0.3272\n",
      "Loss: 0.0026873969472944736\n",
      "Accuracy: 0.7578125\n",
      "Win rate vs random opponent: 68.8% (tie_rate=0.134)\n",
      "Replay Buffer size: 200000/200000\n"
     ]
    },
    {
     "name": "stderr",
     "output_type": "stream",
     "text": [
      " 30%|██▉       | 24000/80895 [3:14:11<238:02:08, 15.06s/it]"
     ]
    },
    {
     "name": "stdout",
     "output_type": "stream",
     "text": [
      "\r * Train step 24000 ✅ *\n",
      "Epsilon value: 0.3174\n",
      "Loss: 0.003241804428398609\n",
      "Accuracy: 0.7421875\n",
      "Win rate vs random opponent: 62.4% (tie_rate=0.156)\n",
      "Replay Buffer size: 200000/200000\n"
     ]
    },
    {
     "name": "stderr",
     "output_type": "stream",
     "text": [
      " 32%|███▏      | 26000/80895 [3:30:01<225:13:38, 14.77s/it]"
     ]
    },
    {
     "name": "stdout",
     "output_type": "stream",
     "text": [
      "\r * Train step 26000 ✅ *\n",
      "Epsilon value: 0.3077\n",
      "Loss: 0.002263268455862999\n",
      "Accuracy: 0.7734375\n",
      "Win rate vs random opponent: 65.4% (tie_rate=0.134)\n",
      "Replay Buffer size: 200000/200000\n"
     ]
    },
    {
     "name": "stderr",
     "output_type": "stream",
     "text": [
      " 35%|███▍      | 28000/80895 [3:45:48<218:03:02, 14.84s/it]"
     ]
    },
    {
     "name": "stdout",
     "output_type": "stream",
     "text": [
      "\r * Train step 28000 ✅ *\n",
      "Epsilon value: 0.2980\n",
      "Loss: 0.0018981453031301498\n",
      "Accuracy: 0.6875\n",
      "Win rate vs random opponent: 67.80000000000001% (tie_rate=0.108)\n",
      "Replay Buffer size: 200000/200000\n"
     ]
    },
    {
     "name": "stderr",
     "output_type": "stream",
     "text": [
      " 37%|███▋      | 30000/80895 [4:01:49<207:15:45, 14.66s/it]"
     ]
    },
    {
     "name": "stdout",
     "output_type": "stream",
     "text": [
      "\r * Train step 30000 ✅ *\n",
      "Epsilon value: 0.2882\n",
      "Loss: 0.002871972508728504\n",
      "Accuracy: 0.7734375\n",
      "Win rate vs random opponent: 65.2% (tie_rate=0.162)\n",
      "Replay Buffer size: 200000/200000\n"
     ]
    },
    {
     "name": "stderr",
     "output_type": "stream",
     "text": [
      " 40%|███▉      | 32000/80895 [4:17:42<205:08:15, 15.10s/it]"
     ]
    },
    {
     "name": "stdout",
     "output_type": "stream",
     "text": [
      "\r * Train step 32000 ✅ *\n",
      "Epsilon value: 0.2785\n",
      "Loss: 0.0025002937763929367\n",
      "Accuracy: 0.734375\n",
      "Win rate vs random opponent: 64.60000000000001% (tie_rate=0.13)\n",
      "Replay Buffer size: 200000/200000\n"
     ]
    },
    {
     "name": "stderr",
     "output_type": "stream",
     "text": [
      " 40%|████      | 32491/80895 [4:22:18<6:30:46,  2.06it/s]"
     ]
    },
    {
     "name": "stdout",
     "output_type": "stream",
     "text": [
      "\n",
      " * Timeout * \n",
      "Last model Win rate vs random opponent: 64.8%\n"
     ]
    },
    {
     "name": "stderr",
     "output_type": "stream",
     "text": [
      "\n"
     ]
    }
   ],
   "source": [
    "# Training setup\n",
    "episodes = train_settings[\"episodes\"]\n",
    "episodes_done = train_settings[\"episodes_done\"]\n",
    "episodes_left = episodes - episodes_done\n",
    "eps_start = train_settings[\"current_eps\"] if train_settings[\"current_eps\"] is not None else train_settings[\"eps_start\"]\n",
    "min_episodes_before_eps_update = max(0, train_settings[\"min_episodes_before_eps_update\"] - episodes_done)\n",
    "min_buffer_size_before_training = train_settings[\"min_buffer_size_before_training\"]\n",
    "\n",
    "round_per_episode = dqn.env.game.rounds\n",
    "warmup_episodes = min(train_settings[\"training_executions_count\"], 1) * int((train_settings[\"buffer_size\"]*0.8)//round_per_episode)\n",
    "\n",
    "# Train the model\n",
    "training_completed, curr_parameters_values = dqn.train(\n",
    "    episodes=episodes_left,\n",
    "    buffer_size=train_settings[\"buffer_size\"],\n",
    "    min_episodes_before_eps_update=min_episodes_before_eps_update,\n",
    "    eps_start=eps_start,\n",
    "    eps_end=train_settings[\"eps_end\"],\n",
    "    episodes_after_eps_end=train_settings[\"episodes_after_eps_end\"],\n",
    "    max_random_skips=train_settings[\"max_random_skips\"],\n",
    "    target_update_interval=train_settings[\"target_update_interval\"],\n",
    "    strategy=train_settings[\"strategy\"],\n",
    "    batch_size=train_settings[\"batch_size\"],\n",
    "    min_buffer_size_before_training=min_buffer_size_before_training,\n",
    "    network_update_per_episode=train_settings[\"network_update_per_episode\"],\n",
    "    evaluate_vs_random_interval=train_settings[\"evaluate_vs_random_interval\"],\n",
    "    warmup_episodes=warmup_episodes,\n",
    "    best_win_rate_vs_random=train_settings[\"best_win_rate_vs_random\"],\n",
    "    checkpoints_pathname=f\"{base_path}/model_checkpoints\",\n",
    "    timeout=5*60*60)"
   ]
  },
  {
   "cell_type": "code",
   "execution_count": null,
   "metadata": {
    "colab": {
     "base_uri": "https://localhost:8080/"
    },
    "id": "pwDcwXC4LPWf",
    "outputId": "e0ebb0f6-9999-40d3-f96c-fb3cf0b8f805"
   },
   "outputs": [
    {
     "name": "stdout",
     "output_type": "stream",
     "text": [
      "JSON file train_4inarowEvolution/win_rate_progression.json loaded into a dictionary\n",
      "Dictionary saved to train_4inarowEvolution/win_rate_progression.json\n",
      "final_win_rate=0.646\tbest_win_rate=0.816\n"
     ]
    }
   ],
   "source": [
    "# Update and save training progress\n",
    "tot_episodes_done = episodes_done + curr_parameters_values[\"episodes_done\"]\n",
    "best_win_rate = curr_parameters_values[\"best_win_rate_vs_random\"]\n",
    "win_rate_history = curr_parameters_values[\"win_rate_history\"]\n",
    "\n",
    "win_rate_progression_path = f\"{base_path}/win_rate_progression.json\"\n",
    "if os.path.exists(win_rate_progression_path):\n",
    "  win_rate_progression = read_json_file_to_dict(win_rate_progression_path)\n",
    "else:\n",
    "  win_rate_progression = {\"win_rate_progression\": [], \"best_win_rate_vs_random\": [], \"episodes_count\": []}\n",
    "\n",
    "save_dict_to_json_file({\n",
    "    \"win_rate_progression\": win_rate_progression[\"win_rate_progression\"] + win_rate_history,\n",
    "    \"best_win_rate_vs_random\": win_rate_progression[\"best_win_rate_vs_random\"] + [best_win_rate],\n",
    "    \"episodes_count\": win_rate_progression[\"episodes_count\"] + [tot_episodes_done]\n",
    "}, win_rate_progression_path)\n",
    "print(f\"final_win_rate={win_rate_history[-1]['win_rate']}\\t{best_win_rate=}\")"
   ]
  },
  {
   "cell_type": "code",
   "execution_count": null,
   "metadata": {
    "colab": {
     "base_uri": "https://localhost:8080/"
    },
    "id": "YROC_nv3DRxu",
    "outputId": "564c6627-53c0-4646-d15a-c1254d1672d2"
   },
   "outputs": [
    {
     "name": "stdout",
     "output_type": "stream",
     "text": [
      "Dictionary saved to train_4inarowEvolution/train_settings.json\n",
      "Zipped train_4inarowEvolution into train_4inarowEvolution.zip\n",
      "Stored training conditions\n"
     ]
    }
   ],
   "source": [
    "train_settings[\"episodes_done\"] = tot_episodes_done\n",
    "train_settings[\"current_eps\"] = curr_parameters_values[\"eps\"]\n",
    "train_settings[\"training_executions_count\"] += 1\n",
    "train_settings[\"best_win_rate_vs_random\"] = best_win_rate\n",
    "save_dict_to_json_file(train_settings, train_settings_path)\n",
    "# Zip the updated training files\n",
    "os.remove(zip_filename)\n",
    "zip_directory(base_path, zip_filename)\n",
    "print(f\"Stored training conditions\")"
   ]
  },
  {
   "cell_type": "code",
   "execution_count": null,
   "metadata": {
    "colab": {
     "base_uri": "https://localhost:8080/",
     "height": 17
    },
    "id": "NpJpuY2kvKEv",
    "outputId": "c18bf72d-87cf-4c70-e8de-5a448812577f"
   },
   "outputs": [
    {
     "data": {
      "application/javascript": "\n    async function download(id, filename, size) {\n      if (!google.colab.kernel.accessAllowed) {\n        return;\n      }\n      const div = document.createElement('div');\n      const label = document.createElement('label');\n      label.textContent = `Downloading \"${filename}\": `;\n      div.appendChild(label);\n      const progress = document.createElement('progress');\n      progress.max = size;\n      div.appendChild(progress);\n      document.body.appendChild(div);\n\n      const buffers = [];\n      let downloaded = 0;\n\n      const channel = await google.colab.kernel.comms.open(id);\n      // Send a message to notify the kernel that we're ready.\n      channel.send({})\n\n      for await (const message of channel.messages) {\n        // Send a message to notify the kernel that we're ready.\n        channel.send({})\n        if (message.buffers) {\n          for (const buffer of message.buffers) {\n            buffers.push(buffer);\n            downloaded += buffer.byteLength;\n            progress.value = downloaded;\n          }\n        }\n      }\n      const blob = new Blob(buffers, {type: 'application/binary'});\n      const a = document.createElement('a');\n      a.href = window.URL.createObjectURL(blob);\n      a.download = filename;\n      div.appendChild(a);\n      a.click();\n      div.remove();\n    }\n  ",
      "text/plain": [
       "<IPython.core.display.Javascript object>"
      ]
     },
     "metadata": {},
     "output_type": "display_data"
    },
    {
     "data": {
      "application/javascript": "download(\"download_065a287c-9965-45c8-8782-75710ad246b3\", \"train_4inarowEvolution.zip\", 6316736)",
      "text/plain": [
       "<IPython.core.display.Javascript object>"
      ]
     },
     "metadata": {},
     "output_type": "display_data"
    }
   ],
   "source": [
    "# Automatically start downloading the updated zip file\n",
    "from google.colab import files\n",
    "files.download(zip_filename)"
   ]
  }
 ],
 "metadata": {
  "colab": {
   "collapsed_sections": [
    "WC5Gu8_Anexn"
   ],
   "provenance": []
  },
  "kernelspec": {
   "display_name": "Python 3",
   "name": "python3"
  },
  "language_info": {
   "name": "python"
  }
 },
 "nbformat": 4,
 "nbformat_minor": 0
}
